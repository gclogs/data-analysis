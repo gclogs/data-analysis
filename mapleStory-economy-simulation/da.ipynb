{
 "cells": [
  {
   "cell_type": "code",
   "execution_count": 1,
   "id": "1516fb0f",
   "metadata": {},
   "outputs": [],
   "source": [
    "import numpy as np\n",
    "import pandas as pd\n",
    "import matplotlib.pyplot as plt\n",
    "import seaborn as sns\n",
    "import os"
   ]
  },
  {
   "cell_type": "code",
   "execution_count": 3,
   "id": "241a5fe7",
   "metadata": {},
   "outputs": [],
   "source": [
    "plt.rcParams['font.family'] = 'Malgun Gothic'\n",
    "plt.rcParams['axes.unicode_minus'] = False\n",
    "plt.rcParams['axes.grid'] = False\n",
    "\n",
    "color = sns.color_palette()\n",
    "\n",
    "import matplotlib.font_manager as fm\n",
    "parameters = {\n",
    "    'axes.labelsize': 12,\n",
    "    'axes.titlesize': 18,\n",
    "    'font.size': 12,\n",
    "    'legend.fontsize': 12,\n",
    "    'xtick.labelsize': 12,\n",
    "    'ytick.labelsize': 12\n",
    "}\n",
    "plt.rcParams.update(parameters)"
   ]
  },
  {
   "cell_type": "code",
   "execution_count": 8,
   "id": "5c91d0fd",
   "metadata": {},
   "outputs": [
    {
     "name": "stdout",
     "output_type": "stream",
     "text": [
      "데이터 로드 성공\n",
      "   Month  Active_Players  Meso_Supply (조)  Avg_Item_Price_Index  Event_Impact  \\\n",
      "0      1           98000              120                   100             0   \n",
      "1      2          102000              125                   103             1   \n",
      "2      3          105000              130                   110             0   \n",
      "3      4           95000              128                   108            -1   \n",
      "4      5          110000              140                   115             1   \n",
      "\n",
      "   Bot_Activity (%)  Inflation_Rate (%)  Major_Trade_Count  \n",
      "0                12                 2.1                850  \n",
      "1                15                 3.5               1200  \n",
      "2                18                 5.0                980  \n",
      "3                 9                 4.2                750  \n",
      "4                20                 6.8               1500  \n",
      "(12, 8)\n",
      "Month                   0\n",
      "Active_Players          0\n",
      "Meso_Supply (조)         0\n",
      "Avg_Item_Price_Index    0\n",
      "Event_Impact            0\n",
      "Bot_Activity (%)        0\n",
      "Inflation_Rate (%)      0\n",
      "Major_Trade_Count       0\n",
      "dtype: int64\n"
     ]
    }
   ],
   "source": [
    "try:\n",
    "    os.chdir(r'D:\\data-analysis\\mapleStory-economy-simulation')\n",
    "except:\n",
    "    print(\"작업 디렉토리 변경에 실패했습니다. 경로를 확인해주세요.\")\n",
    "\n",
    "try:\n",
    "    train = pd.read_csv('deepseek_csv.csv')\n",
    "    print(\"데이터 로드 성공\")\n",
    "except:\n",
    "    print(\"데이터 파일을 찾을 수 없습니다. 경로를 확인해주세요.\")\n",
    "    train = pd.DataFrame() \n",
    "\n",
    "print(train.head())\n",
    "print(train.shape)\n",
    "print(train.isnull().sum())\n"
   ]
  },
  {
   "cell_type": "code",
   "execution_count": null,
   "id": "84668937",
   "metadata": {},
   "outputs": [],
   "source": [
    "if not train.empty:\n",
    "    plt.figure(figsize=(12, 4))\n",
    "    sns.displot(train['Active_Players'])\n",
    "    plt.title('Active_Players 분포', fontsize=16)\n",
    "    plt.xlabel('Active_Players')\n",
    "    plt.ylabel('빈도')\n",
    "    plt.show()"
   ]
  }
 ],
 "metadata": {
  "kernelspec": {
   "display_name": "base",
   "language": "python",
   "name": "python3"
  },
  "language_info": {
   "codemirror_mode": {
    "name": "ipython",
    "version": 3
   },
   "file_extension": ".py",
   "mimetype": "text/x-python",
   "name": "python",
   "nbconvert_exporter": "python",
   "pygments_lexer": "ipython3",
   "version": "3.12.7"
  }
 },
 "nbformat": 4,
 "nbformat_minor": 5
}
